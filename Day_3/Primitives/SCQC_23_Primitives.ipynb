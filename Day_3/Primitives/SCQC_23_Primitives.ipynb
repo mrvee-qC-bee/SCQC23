{
 "cells": [
  {
   "cell_type": "markdown",
   "id": "30bb1312-3eab-4ee7-83d7-bb4b516d292c",
   "metadata": {},
   "source": [
    "# SCQC Thailand 2023 - Introduction to Qiskit Primitives and Qiskit Runtime\n",
    "Presented by: Astri Cornish\n",
    "\n",
    "This tutorial was adapted from pre-existing notebooks. Credit to:  \n",
    "- _Abby Mitchell_ - Quantum Developer Advocate (https://abbymitchell.dev)  \n",
    "- _Vishal Bajpe_ - Quantum Community Developer Advocate (https://github.com/mrvee-qC)\n",
    "- IBM Quantum and Qiskit tutorial documentations (https://qiskit.org/documentation/tutorials.html)"
   ]
  },
  {
   "cell_type": "markdown",
   "id": "70a95e29-2539-480f-8b8e-bf28ecaa1e37",
   "metadata": {},
   "source": [
    "### Parametric Circuits - Great for Variational Algorithms and thus Quantum Machine Learning!"
   ]
  },
  {
   "cell_type": "code",
   "execution_count": 2,
   "id": "c23906fc-6e4a-434c-a8b2-87fd83a4dfc8",
   "metadata": {
    "tags": []
   },
   "outputs": [
    {
     "data": {
      "image/png": "[encoded data removed]",
      "text/plain": [
       "<Figure size 185.453x117.056 with 1 Axes>"
      ]
     },
     "execution_count": 2,
     "metadata": {},
     "output_type": "execute_result"
    }
   ],
   "source": [
    "from qiskit import QuantumCircuit\n",
    "from qiskit.visualization import plot_histogram\n",
    "from qiskit.circuit import Parameter\n",
    "import numpy as np\n",
    "\n",
    "# Define a variable theta to be a parameter with name 'theta'\n",
    "theta = Parameter('theta')\n",
    "\n",
    "# Initialize a quantum circuit with one qubit\n",
    "quantum_circuit = QuantumCircuit(1)\n",
    "\n",
    "# Add a parametrized RX rotation on the qubit\n",
    "quantum_circuit.rx(theta, 0)\n",
    "\n",
    "quantum_circuit.draw(output=\"mpl\")"
   ]
  },
  {
   "cell_type": "code",
   "execution_count": 24,
   "id": "4e68d401-c740-49e9-8eee-cd9249f51011",
   "metadata": {
    "tags": []
   },
   "outputs": [
    {
     "data": {
      "image/png": "[encoded data removed]",
      "text/plain": [
       "<Figure size 413.165x200.667 with 1 Axes>"
      ]
     },
     "execution_count": 24,
     "metadata": {},
     "output_type": "execute_result"
    }
   ],
   "source": [
    "# Set the value of the parameter\n",
    "theta_value = np.pi\n",
    "\n",
    "# Bind the value to the parametrized circuit\n",
    "qc = quantum_circuit.bind_parameters({theta: theta_value})\n",
    "\n",
    "# Add a measurement gate to the circuit before we run it\n",
    "qc.measure_all()\n",
    "\n",
    "qc.draw(output=\"mpl\")"
   ]
  },
  {
   "cell_type": "code",
   "execution_count": 25,
   "id": "c3cadf2e-a0fe-494c-9861-21d73274a7b0",
   "metadata": {
    "tags": []
   },
   "outputs": [
    {
     "data": {
      "text/plain": [
       "{'1': 1024}"
      ]
     },
     "execution_count": 25,
     "metadata": {},
     "output_type": "execute_result"
    }
   ],
   "source": [
    "# Running on a simulator\n",
    "from qiskit_aer import AerSimulator\n",
    "\n",
    "sim = AerSimulator()\n",
    "job = sim.run(qc) # shots = 1024 is the default\n",
    "result = job.result() \n",
    "counts = result.get_counts() \n",
    "counts"
   ]
  },
  {
   "cell_type": "code",
   "execution_count": 9,
   "id": "a08cd7f1-ce6b-49ab-aac4-c413111e1a24",
   "metadata": {
    "tags": []
   },
   "outputs": [
    {
     "name": "stdout",
     "output_type": "stream",
     "text": [
      "The best backend is: ibmq_quito\n",
      "Job ID: chr9df1vrup89877810g\n",
      "Job Status: job has successfully run\n"
     ]
    },
    {
     "data": {
      "text/plain": [
       "{'0': 12, '1': 1012}"
      ]
     },
     "execution_count": 9,
     "metadata": {},
     "output_type": "execute_result"
    }
   ],
   "source": [
    "# running on a quantum device\n",
    "\n",
    "from qiskit import transpile\n",
    "from qiskit_ibm_provider import IBMProvider, least_busy\n",
    "\n",
    "provider = IBMProvider(instance='ibm-q/open/main')\n",
    "\n",
    "# get the least-busy backend \n",
    "real_backend = least_busy(provider.backends(filters=lambda b: b.configuration().n_qubits >= 1 and\n",
    "                                   not b.configuration().simulator and b.status().operational==True))\n",
    "\n",
    "print(f\"The best backend is: \", real_backend.name)\n",
    "\n",
    "\n",
    "# transpilation\n",
    "circuit_transpiled = transpile(qc, real_backend)\n",
    "\n",
    "# submit the job\n",
    "job = real_backend.run(circuit_transpiled, shots = 1024)\n",
    "\n",
    "# Monitoring our job\n",
    "from qiskit_ibm_provider.job import job_monitor\n",
    "print(f\"Job ID: {job.job_id()}\")\n",
    "job_monitor(job)\n",
    "\n",
    "results = job.result()\n",
    "counts = results.get_counts()\n",
    "counts"
   ]
  },
  {
   "cell_type": "markdown",
   "id": "62b681a3-7097-41f3-8d51-6065000a70c9",
   "metadata": {},
   "source": [
    "What about when I need to try different values for theta for the same circuit (an important concept for quantum machine learning)?  \n",
    "Will I have to re-submit the circuit and wait in a queue every time I want to try a different theta value?!  \n",
    "Can I do this in a more efficient way?"
   ]
  },
  {
   "cell_type": "markdown",
   "id": "0c312775-ee51-4639-b2fa-b1d222f82f29",
   "metadata": {
    "tags": []
   },
   "source": [
    "## Qiskit Runtime and Qiskit Primitives - New(ish) Features 🎉\n",
    "\n",
    "![](circuit_flow.png)\n",
    "\n",
    "![](runtime_prog_flow.png)\n",
    "\n",
    "![](primitives.png)\n",
    "\n",
    "![](sampler_estimator.png)\n"
   ]
  },
  {
   "cell_type": "markdown",
   "id": "868c6108-282e-40a5-8678-690375a6969e",
   "metadata": {},
   "source": [
    "#### Simple Sampler Example"
   ]
  },
  {
   "cell_type": "code",
   "execution_count": 4,
   "id": "afee79ce-8524-4b91-9268-01ea6e1de254",
   "metadata": {
    "tags": []
   },
   "outputs": [
    {
     "data": {
      "image/png": "[encoded data removed]",
      "text/plain": [
       "<Figure size 580.387x284.278 with 1 Axes>"
      ]
     },
     "execution_count": 4,
     "metadata": {},
     "output_type": "execute_result"
    }
   ],
   "source": [
    "from qiskit import QuantumCircuit\n",
    "bell = QuantumCircuit(2)\n",
    "bell.h(0)\n",
    "bell.cx(0, 1)\n",
    "bell.measure_all()\n",
    "bell.draw()"
   ]
  },
  {
   "cell_type": "code",
   "execution_count": 5,
   "id": "65450942-dd27-4314-9a67-d656c9affa5c",
   "metadata": {
    "tags": []
   },
   "outputs": [
    {
     "name": "stdout",
     "output_type": "stream",
     "text": [
      "SamplerResult(quasi_dists=[{0: 0.51, 3: 0.49}], metadata=[{'shots': 100}])\n",
      "Quasi-distribution is:  {'00': 0.51, '11': 0.49}\n"
     ]
    },
    {
     "data": {
      "image/png": "[encoded data removed]",
      "text/plain": [
       "<Figure size 700x500 with 1 Axes>"
      ]
     },
     "execution_count": 5,
     "metadata": {},
     "output_type": "execute_result"
    }
   ],
   "source": [
    "from qiskit.primitives import Sampler\n",
    "\n",
    "sampler = Sampler(options={\"shots\": 100})\n",
    "job = sampler.run(bell) # uses local simulator under the hood\n",
    "result = job.result()\n",
    "\n",
    "print(result)\n",
    "\n",
    "# quasi-distribution:\n",
    "dist = result.quasi_dists[0].binary_probabilities()\n",
    "print(f\"Quasi-distribution is: \", dist)\n",
    "\n",
    "plot_histogram(dist)"
   ]
  },
  {
   "cell_type": "markdown",
   "id": "f4054f45-c405-45f1-a6e9-9f5da078e97c",
   "metadata": {},
   "source": [
    "#### Sampler example attempting multiple thetas with the same circuit"
   ]
  },
  {
   "cell_type": "code",
   "execution_count": 6,
   "id": "6dff5a57-e7b8-4501-a0cb-75e319f66872",
   "metadata": {
    "tags": []
   },
   "outputs": [
    {
     "data": {
      "image/png": "[encoded data removed]",
      "text/plain": [
       "<Figure size 413.165x200.667 with 1 Axes>"
      ]
     },
     "execution_count": 6,
     "metadata": {},
     "output_type": "execute_result"
    }
   ],
   "source": [
    "quantum_circuit.measure_all()\n",
    "quantum_circuit.draw()\n",
    "#notice that theta is an unbound parameter"
   ]
  },
  {
   "cell_type": "code",
   "execution_count": 7,
   "id": "031c275f-42d5-43e5-bdf3-8f676483171b",
   "metadata": {
    "tags": []
   },
   "outputs": [
    {
     "data": {
      "text/plain": [
       "[{0: 1.0},\n",
       " {0: 0.84, 1: 0.16},\n",
       " {0: 0.67, 1: 0.33},\n",
       " {0: 0.55, 1: 0.45},\n",
       " {0: 0.24, 1: 0.76},\n",
       " {0: 0.15, 1: 0.85},\n",
       " {1: 1.0}]"
      ]
     },
     "execution_count": 7,
     "metadata": {},
     "output_type": "execute_result"
    }
   ],
   "source": [
    "thetas = [0, np.pi/4, np.pi/3, np.pi/2, 2*np.pi/3, 3*np.pi/4, np.pi]\n",
    "\n",
    "indv_thetas = [[ph] for ph in thetas] #[[0], [np.pi/4], [np.pi/3], [np.pi/2], [2*np.pi/3], [3*np.pi/4], [np.pi]]\n",
    "\n",
    "job = sampler.run([quantum_circuit]*len(indv_thetas), parameter_values=indv_thetas) # uses local simulator under the hood\n",
    "result = job.result()\n",
    "\n",
    "quasi_dists = result.quasi_dists\n",
    "quasi_dists"
   ]
  },
  {
   "cell_type": "code",
   "execution_count": 8,
   "id": "f189b0fc-6b65-4079-b34c-01a23a91bd83",
   "metadata": {
    "tags": []
   },
   "outputs": [],
   "source": [
    "# Get the prob values for each of the states\n",
    "\n",
    "prob_values_0 = [dist.get(0, 0) for dist in result.quasi_dists]\n",
    "prob_values_1 = [dist.get(1, 0) for dist in result.quasi_dists]"
   ]
  },
  {
   "cell_type": "code",
   "execution_count": 9,
   "id": "6c81978f-fe36-4b87-862c-b18440023d29",
   "metadata": {
    "tags": []
   },
   "outputs": [
    {
     "data": {
      "image/png": "[encoded data removed]",
      "text/plain": [
       "<Figure size 640x480 with 1 Axes>"
      ]
     },
     "metadata": {},
     "output_type": "display_data"
    }
   ],
   "source": [
    "import matplotlib.pyplot as plt\n",
    "\n",
    "plt.plot(thetas, prob_values_0, 'o', label='zero state')\n",
    "plt.plot(thetas, prob_values_1, 'o', label='one state')\n",
    "plt.xlabel('Theta')\n",
    "plt.ylabel('Probability')\n",
    "plt.legend();"
   ]
  },
  {
   "cell_type": "markdown",
   "id": "dbdacfe3-1cdf-4265-bf7d-ec11f1c080cd",
   "metadata": {},
   "source": [
    "#### Use Primitives with IBM Devices via Sessions - (Alpha: Still under active development)\n",
    "\n",
    "If you want to get results from IBM hardware using primitives, you need to use the `qiskit_ibm_runtime` provider, which facilitates the connection to the IBM hardware via sessions."
   ]
  },
  {
   "cell_type": "code",
   "execution_count": null,
   "id": "b085356b-6020-4020-9047-3ee7cf06b8af",
   "metadata": {
    "tags": []
   },
   "outputs": [
    {
     "name": "stdout",
     "output_type": "stream",
     "text": [
      "[<IBMBackend('ibmq_lima')>, <IBMBackend('simulator_extended_stabilizer')>, <IBMBackend('simulator_mps')>, <IBMBackend('simulator_stabilizer')>, <IBMBackend('ibm_lagos')>, <IBMBackend('ibmq_qasm_simulator')>, <IBMBackend('ibmq_quito')>, <IBMBackend('ibmq_belem')>, <IBMBackend('simulator_statevector')>, <IBMBackend('ibmq_manila')>, <IBMBackend('ibm_nairobi')>, <IBMBackend('ibm_perth')>, <IBMBackend('ibmq_jakarta')>]\n",
      "The best backend is ibmq_lima\n"
     ]
    }
   ],
   "source": [
    "from qiskit_ibm_runtime import QiskitRuntimeService, Session, Sampler\n",
    "from qiskit import QuantumCircuit\n",
    "\n",
    "# QiskitRuntimeService.save_account(channel='ibm_quantum', token='my_token', overwrite=True) #uncomment if you need to save your account again\n",
    "service = QiskitRuntimeService(\n",
    "    channel='ibm_quantum',\n",
    "    instance='ibm-q/open/main',\n",
    ")\n",
    "\n",
    "print(service.backends())\n",
    "\n",
    "real_backend = service.least_busy(min_num_qubits=2, simulator=False, operational=True)\n",
    "\n",
    "print(f\"The best backend is {real_backend.name}\")\n",
    "\n",
    "# backend = service.get_backend('ibmq_qasm_simulator') # simulator\n",
    "# can also use noisy simulators\n",
    "\n",
    "# Execute both example circuits\n",
    "with Session(service=service, backend=real_backend) as session:\n",
    "    sampler = Sampler(session=session)\n",
    "\n",
    "    # now we can run multiple jobs but only queue once\n",
    "    job = sampler.run([bell], [[]])\n",
    "    samples_bell = job.result().quasi_dists[0]\n",
    "\n",
    "    job = sampler.run([quantum_circuit]*len(indv_thetas), parameter_values=indv_thetas)\n",
    "    samples_param = job.result().quasi_dists"
   ]
  },
  {
   "cell_type": "code",
   "execution_count": 13,
   "id": "476fe64e-06a6-4445-a2eb-5e6ce7870449",
   "metadata": {
    "tags": []
   },
   "outputs": [
    {
     "data": {
      "text/plain": [
       "{'00': 0.5153231178878536,\n",
       " '01': 0.00306419655209239,\n",
       " '10': 0.003709545428729359,\n",
       " '11': 0.4779031401313247}"
      ]
     },
     "execution_count": 13,
     "metadata": {},
     "output_type": "execute_result"
    }
   ],
   "source": [
    "samples_bell.binary_probabilities()"
   ]
  },
  {
   "cell_type": "code",
   "execution_count": 8,
   "id": "bb763394-1a72-498f-83a8-3dae7abbdde2",
   "metadata": {
    "tags": []
   },
   "outputs": [
    {
     "data": {
      "text/plain": [
       "[{0: 0.9969182548697884, 1: 0.0030817451302116265},\n",
       " {0: 0.8683369094198327, 1: 0.13166309058016745},\n",
       " {0: 0.7797235895494131, 1: 0.22027641045058688},\n",
       " {0: 0.5386006983886575, 1: 0.4613993016113425},\n",
       " {0: 0.27723084690142624, 1: 0.7227691530985737},\n",
       " {0: 0.17389246497538813, 1: 0.8261075350246118},\n",
       " {0: 0.0013988808952838223, 1: 0.9986011191047162}]"
      ]
     },
     "execution_count": 8,
     "metadata": {},
     "output_type": "execute_result"
    }
   ],
   "source": [
    "samples_param"
   ]
  },
  {
   "cell_type": "code",
   "execution_count": 14,
   "id": "24dc38f3-e912-40c0-9029-04198d710d87",
   "metadata": {
    "ExecuteTime": {
     "end_time": "2020-07-13T20:35:29.079589Z",
     "start_time": "2020-07-13T20:35:28.573543Z"
    },
    "tags": []
   },
   "outputs": [
    {
     "data": {
      "text/html": [
       "<h3>Version Information</h3><table><tr><th>Qiskit Software</th><th>Version</th></tr><tr><td><code>qiskit-terra</code></td><td>0.24.0</td></tr><tr><td><code>qiskit-aer</code></td><td>0.12.0</td></tr><tr><td><code>qiskit-ibmq-provider</code></td><td>0.20.2</td></tr><tr><td><code>qiskit</code></td><td>0.43.0</td></tr><tr><td><code>qiskit-nature</code></td><td>0.6.1</td></tr><tr><td><code>qiskit-finance</code></td><td>0.3.4</td></tr><tr><td><code>qiskit-optimization</code></td><td>0.5.0</td></tr><tr><td><code>qiskit-machine-learning</code></td><td>0.6.0</td></tr><tr><th>System information</th></tr><tr><td>Python version</td><td>3.10.8</td></tr><tr><td>Python compiler</td><td>GCC 10.4.0</td></tr><tr><td>Python build</td><td>main, Nov 22 2022 08:26:04</td></tr><tr><td>OS</td><td>Linux</td></tr><tr><td>CPUs</td><td>8</td></tr><tr><td>Memory (Gb)</td><td>31.211322784423828</td></tr><tr><td colspan='2'>Tue Jun 06 23:54:52 2023 UTC</td></tr></table>"
      ],
      "text/plain": [
       "<IPython.core.display.HTML object>"
      ]
     },
     "metadata": {},
     "output_type": "display_data"
    },
    {
     "data": {
      "text/html": [
       "<div style='width: 100%; background-color:#d5d9e0;padding-left: 10px; padding-bottom: 10px; padding-right: 10px; padding-top: 5px'><h3>This code is a part of Qiskit</h3><p>&copy; Copyright IBM 2017, 2023.</p><p>This code is licensed under the Apache License, Version 2.0. You may<br>obtain a copy of this license in the LICENSE.txt file in the root directory<br> of this source tree or at http://www.apache.org/licenses/LICENSE-2.0.<p>Any modifications or derivative works of this code must retain this<br>copyright notice, and modified files need to carry a notice indicating<br>that they have been altered from the originals.</p></div>"
      ],
      "text/plain": [
       "<IPython.core.display.HTML object>"
      ]
     },
     "metadata": {},
     "output_type": "display_data"
    }
   ],
   "source": [
    "import qiskit.tools.jupyter\n",
    "\n",
    "%qiskit_version_table\n",
    "%qiskit_copyright"
   ]
  },
  {
   "cell_type": "code",
   "execution_count": null,
   "id": "288854f4-2242-40cd-a9a4-33fa1e2a5207",
   "metadata": {},
   "outputs": [],
   "source": []
  }
 ],
 "metadata": {
  "kernelspec": {
   "display_name": "Python 3",
   "language": "python",
   "name": "python3"
  },
  "language_info": {
   "codemirror_mode": {
    "name": "ipython",
    "version": 3
   },
   "file_extension": ".py",
   "mimetype": "text/x-python",
   "name": "python",
   "nbconvert_exporter": "python",
   "pygments_lexer": "ipython3",
   "version": "3.9.12"
  },
  "widgets": {
   "application/vnd.jupyter.widget-state+json": {
    "state": {},
    "version_major": 2,
    "version_minor": 0
   }
  }
 },
 "nbformat": 4,
 "nbformat_minor": 5
}
