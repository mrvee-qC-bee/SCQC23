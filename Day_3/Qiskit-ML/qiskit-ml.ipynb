{
 "cells": [
  {
   "attachments": {},
   "cell_type": "markdown",
   "id": "ddbd35fa",
   "metadata": {},
   "source": [
    "# Qiskit Machine Learning Module - Quantum Neural Network\n",
    "\n",
    "### June 14, 2023 \n",
    "### For SCQC Summer School 2023: Day 3\n",
    "This tutorial was generated from Qiskit Machine learning docs\n",
    "https://qiskit.org/ecosystem/machine-learning/tutorials/01_neural_networks.html"
   ]
  },
  {
   "attachments": {},
   "cell_type": "markdown",
   "id": "brilliant-cross",
   "metadata": {},
   "source": [
    "# Quantum Neural Networks\n",
    "\n",
    "## Overview\n",
    "This notebook demonstrates different quantum neural network (QNN) implementations provided in `qiskit-machine-learning`, and how they can be integrated into basic quantum machine learning (QML) workflows.\n",
    "\n",
    "The tutorial is structured as follows:\n",
    "\n",
    "1. [Introduction](#1.-Implementation-in-`qiskit-machine-learning`)\n",
    "2. [SamplerQNN](#2.`SamplerQNN`)\n",
    "3. [How to Run a Forward Pass](#3.-How-to-Run-a-Forward-Pass)\n",
    "4. [How to Run a Backward Pass](#4.-How-to-Run-a-Backward-Pass)\n",
    "5. [Advanced Functionality](#5.-Advanced-Functionality)\n",
    "6. [Conclusion](#6.-Conclusion)"
   ]
  },
  {
   "attachments": {},
   "cell_type": "markdown",
   "id": "f47d2070",
   "metadata": {},
   "source": [
    "## 1. Implementation in `qiskit-machine-learning`\n",
    "\n",
    "The QNNs in `qiskit-machine-learning` are meant as application-agnostic computational units that can be used for different use cases.\n",
    "\n",
    "The module contains an interface for the QNNs and two specific implementations:\n",
    "\n",
    "1. [NeuralNetwork](https://qiskit.org/ecosystem/machine-learning/stubs/qiskit_machine_learning.neural_networks.NeuralNetwork.html): The interface for neural networks. This is an abstract class all QNNs inherit from.\n",
    "2. [EstimatorQNN](https://qiskit.org/ecosystem/machine-learning/stubs/qiskit_machine_learning.neural_networks.EstimatorQNN.html): A network based on the evaluation of quantum mechanical observables.\n",
    "3. [SamplerQNN](https://qiskit.org/ecosystem/machine-learning/locale/fr_FR/stubs/qiskit_machine_learning.neural_networks.SamplerQNN.html): A network based on the samples resulting from measuring a quantum circuit.\n",
    "\n",
    "\n",
    "These implementations are based on the [qiskit primitives](https://qiskit.org/documentation/apidoc/primitives.html).\n",
    " Each implementation, `EstimatorQNN` and `SamplerQNN`, takes in an optional instance of its corresponding primitive, which can be any subclass of `BaseEstimator` and `BaseSampler`, respectively."
   ]
  },
  {
   "attachments": {},
   "cell_type": "markdown",
   "id": "ba316207",
   "metadata": {},
   "source": [
    "***\n",
    "\n",
    "Let's now look into specific examples for the two `NeuralNetwork` implementations. But first, let's set the algorithmic seed to ensure that the results don't change between runs."
   ]
  },
  {
   "cell_type": "code",
   "execution_count": 1,
   "id": "annual-engine",
   "metadata": {},
   "outputs": [],
   "source": [
    "from qiskit.utils import algorithm_globals\n",
    "\n",
    "algorithm_globals.random_seed = 42"
   ]
  },
  {
   "attachments": {},
   "cell_type": "markdown",
   "id": "f1ac3811",
   "metadata": {},
   "source": [
    "## 2. `SamplerQNN`\n",
    "\n",
    "`SamplerQNN` is instantiated in a similar way to the `EstimatorQNN`\n",
    "  - but because it directly consumes samples from measuring the quantum circuit, it does not require a custom observable.\n",
    "\n",
    "These output samples are interpreted by default as the probabilities of measuring the integer index corresponding to a bitstring. \n",
    "\n",
    "However, the `SamplerQNN` also allows us to specify an `interpret` function to post-process the samples. This function should be defined so that it takes a measured integer (from a bitstring) and maps it to a new value, i.e. non-negative integer.\n",
    "\n"
   ]
  },
  {
   "attachments": {},
   "cell_type": "markdown",
   "id": "82cc2353",
   "metadata": {},
   "source": [
    "Let's create a quantum circuit for the `SamplerQNN`. In this case, we will have two input parameters and four trainable weights that parametrize a  two-local circuit."
   ]
  },
  {
   "cell_type": "code",
   "execution_count": 5,
   "id": "acceptable-standing",
   "metadata": {},
   "outputs": [
    {
     "name": "stdout",
     "output_type": "stream",
     "text": [
      "input parameters: ['input[0]', 'input[1]']\n",
      "weight parameters: ['weight[0]', 'weight[1]', 'weight[2]', 'weight[3]']\n"
     ]
    },
    {
     "data": {
      "image/png": "[encoded data removed]",
      "text/plain": [
       "<Figure size 538.128x200.667 with 1 Axes>"
      ]
     },
     "execution_count": 5,
     "metadata": {},
     "output_type": "execute_result"
    }
   ],
   "source": [
    "from qiskit.circuit import QuantumCircuit, ParameterVector\n",
    "\n",
    "inputs2 = ParameterVector(\"input\", 2)\n",
    "weights2 = ParameterVector(\"weight\", 4)\n",
    "print(f\"input parameters: {[str(item) for item in inputs2.params]}\")\n",
    "print(f\"weight parameters: {[str(item) for item in weights2.params]}\")\n",
    "\n",
    "qc2 = QuantumCircuit(2)\n",
    "qc2.ry(inputs2[0], 0)\n",
    "qc2.ry(inputs2[1], 1)\n",
    "qc2.cx(0, 1)\n",
    "qc2.ry(weights2[0], 0)\n",
    "qc2.ry(weights2[1], 1)\n",
    "qc2.cx(0, 1)\n",
    "qc2.ry(weights2[2], 0)\n",
    "qc2.ry(weights2[3], 1)\n",
    "\n",
    "qc2.draw(output=\"mpl\")"
   ]
  },
  {
   "attachments": {},
   "cell_type": "markdown",
   "id": "1e86defb",
   "metadata": {},
   "source": [
    "Similarly to the `EstimatorQNN`, we must specify inputs and weights when instantiating the `SamplerQNN`. In this case, the keyword arguments will be:\n",
    "- `sampler`: optional primitive instance\n",
    "- `input_params`: list of quantum circuit parameters that should be treated as \"network inputs\"\n",
    "- `weight_params`: list of quantum circuit parameters that should be treated as \"network weights\"\n",
    "\n",
    "Please note that, once again, we are choosing not to set the `Sampler` instance to the QNN and relying on the default."
   ]
  },
  {
   "cell_type": "code",
   "execution_count": 7,
   "id": "5c007d10",
   "metadata": {},
   "outputs": [
    {
     "data": {
      "text/plain": [
       "<qiskit_machine_learning.neural_networks.sampler_qnn.SamplerQNN at 0x12756f160>"
      ]
     },
     "execution_count": 7,
     "metadata": {},
     "output_type": "execute_result"
    }
   ],
   "source": [
    "from qiskit_machine_learning.neural_networks import SamplerQNN\n",
    "\n",
    "sampler_qnn = SamplerQNN(circuit=qc2, input_params=inputs2, weight_params=weights2)\n",
    "sampler_qnn"
   ]
  },
  {
   "attachments": {},
   "cell_type": "markdown",
   "id": "e8c56e76",
   "metadata": {},
   "source": [
    "In addition to the basic arguments shown above, the `SamplerQNN` accepts three more settings: `input_gradients`, `interpret`, and `output_shape`. These will be introduced in sections 4 and 5."
   ]
  },
  {
   "attachments": {},
   "cell_type": "markdown",
   "id": "0ac89b99",
   "metadata": {},
   "source": [
    "## 3. How to Run a Forward Pass"
   ]
  },
  {
   "attachments": {},
   "cell_type": "markdown",
   "id": "8589abbd",
   "metadata": {},
   "source": [
    "### 3.1. Set-Up\n",
    "In a real setting, the inputs would be defined by the dataset, and the weights would be defined by the training algorithm or as part of a pre-trained model. However, for the sake of this tutorial, we will specify random sets of input and weights of the right dimension:"
   ]
  },
  {
   "cell_type": "code",
   "execution_count": 8,
   "id": "a0fd6253",
   "metadata": {
    "scrolled": true
   },
   "outputs": [],
   "source": [
    "sampler_qnn_input = algorithm_globals.random.random(sampler_qnn.num_inputs)\n",
    "sampler_qnn_weights = algorithm_globals.random.random(sampler_qnn.num_weights)"
   ]
  },
  {
   "cell_type": "code",
   "execution_count": 9,
   "id": "a008cebc",
   "metadata": {},
   "outputs": [
    {
     "name": "stdout",
     "output_type": "stream",
     "text": [
      "Number of input features for SamplerQNN: 2 \n",
      "Input: [0.77395605 0.43887844]\n",
      "Number of trainable weights for SamplerQNN: 4 \n",
      "Weights: [0.85859792 0.69736803 0.09417735 0.97562235]\n"
     ]
    }
   ],
   "source": [
    "print(\n",
    "    f\"Number of input features for SamplerQNN: {sampler_qnn.num_inputs} \\nInput: {sampler_qnn_input}\"\n",
    ")\n",
    "print(\n",
    "    f\"Number of trainable weights for SamplerQNN: {sampler_qnn.num_weights} \\nWeights: {sampler_qnn_weights}\"\n",
    ")"
   ]
  },
  {
   "attachments": {},
   "cell_type": "markdown",
   "id": "7f1500df",
   "metadata": {},
   "source": [
    "Once we have the inputs and the weights, let's see the results for batched and non-batched passes."
   ]
  },
  {
   "attachments": {},
   "cell_type": "markdown",
   "id": "de7e7302",
   "metadata": {},
   "source": [
    "### 3.2. Non-batched Forward Pass"
   ]
  },
  {
   "attachments": {},
   "cell_type": "markdown",
   "id": "94473b35",
   "metadata": {},
   "source": [
    "For the `SamplerQNN` (without a custom interpret function), the expected output shape for the forward pass is `(1, 2**num_qubits)`. With a custom interpret function, the output shape will be `(1, output_shape)`, where `1` in our case is the number of samples:"
   ]
  },
  {
   "cell_type": "code",
   "execution_count": 10,
   "id": "cb847a75",
   "metadata": {},
   "outputs": [
    {
     "name": "stdout",
     "output_type": "stream",
     "text": [
      "Forward pass result for SamplerQNN: [[0.23851185 0.1411135  0.3367757  0.28359895]].  \n",
      "Shape: (1, 4)\n"
     ]
    }
   ],
   "source": [
    "sampler_qnn_forward = sampler_qnn.forward(sampler_qnn_input, sampler_qnn_weights)\n",
    "\n",
    "print(\n",
    "    f\"Forward pass result for SamplerQNN: {sampler_qnn_forward}.  \\nShape: {sampler_qnn_forward.shape}\"\n",
    ")"
   ]
  },
  {
   "attachments": {},
   "cell_type": "markdown",
   "id": "1c843c95",
   "metadata": {},
   "source": [
    "### 3.3. Batched Forward Pass"
   ]
  },
  {
   "attachments": {},
   "cell_type": "markdown",
   "id": "48f7b7bb",
   "metadata": {},
   "source": [
    "For the `SamplerQNN` (without custom interpret function), the expected output shape for the forward pass is `(batch_size, 2**num_qubits)`. With a custom interpret function, the output shape will be `(batch_size, output_shape)`."
   ]
  },
  {
   "cell_type": "code",
   "execution_count": 11,
   "id": "29eb2151",
   "metadata": {},
   "outputs": [
    {
     "name": "stdout",
     "output_type": "stream",
     "text": [
      "Forward pass result for SamplerQNN: [[0.23851185 0.1411135  0.3367757  0.28359895]\n",
      " [0.23851185 0.1411135  0.3367757  0.28359895]].  \n",
      "Shape: (2, 4)\n"
     ]
    }
   ],
   "source": [
    "sampler_qnn_forward_batched = sampler_qnn.forward(\n",
    "    [sampler_qnn_input, sampler_qnn_input], sampler_qnn_weights\n",
    ")\n",
    "\n",
    "print(\n",
    "    f\"Forward pass result for SamplerQNN: {sampler_qnn_forward_batched}.  \\nShape: {sampler_qnn_forward_batched.shape}\"\n",
    ")"
   ]
  },
  {
   "attachments": {},
   "cell_type": "markdown",
   "id": "171b8ee1",
   "metadata": {},
   "source": [
    "## 4. How to Run a Backward Pass\n",
    "\n",
    "Let's take advantage of the inputs and weights defined above to show how the backward pass works. This pass returns a tuple `(input_gradients, weight_gradients)`. By default, the backward pass will only calculate gradients with respect to the weight parameters.\n",
    "\n",
    "If you want to enable gradients with respect to the input parameters, you should set the following flag during the QNN instantiation:\n",
    "\n",
    "```python\n",
    "qnn = ...QNN(..., input_gradients=True)\n",
    "```\n",
    "\n",
    "Please remember that input gradients are **required** for the use of `TorchConnector` for PyTorch integration."
   ]
  },
  {
   "attachments": {},
   "cell_type": "markdown",
   "id": "e5b90338",
   "metadata": {},
   "source": [
    "### 4.1. Backward Pass without Input Gradients"
   ]
  },
  {
   "attachments": {},
   "cell_type": "markdown",
   "id": "bebaa404",
   "metadata": {},
   "source": [
    "For the `SamplerQNN` (without custom interpret function), the expected output shape for the forward pass is `(batch_size, 2**num_qubits, num_weights)`. With a custom interpret function, the output shape will be `(batch_size, output_shape, num_weights)`.:"
   ]
  },
  {
   "cell_type": "code",
   "execution_count": 12,
   "id": "eefacefe",
   "metadata": {},
   "outputs": [
    {
     "name": "stdout",
     "output_type": "stream",
     "text": [
      "Input gradients for SamplerQNN: None.  \n",
      "Shape: None\n",
      "Weight gradients for SamplerQNN: [[[ 0.00609879 -0.30661818 -0.1834591  -0.28341665]\n",
      "  [-0.02969169  0.17866236  0.1834591  -0.20004909]\n",
      "  [-0.37812738  0.30266095 -0.30904568  0.28341665]\n",
      "  [ 0.40172028 -0.17470512  0.30904568  0.20004909]]].  \n",
      "Shape: (1, 4, 4)\n"
     ]
    }
   ],
   "source": [
    "sampler_qnn_input_grad, sampler_qnn_weight_grad = sampler_qnn.backward(\n",
    "    sampler_qnn_input, sampler_qnn_weights\n",
    ")\n",
    "\n",
    "print(\n",
    "    f\"Input gradients for SamplerQNN: {sampler_qnn_input_grad}.  \\nShape: {sampler_qnn_input_grad}\"\n",
    ")\n",
    "print(\n",
    "    f\"Weight gradients for SamplerQNN: {sampler_qnn_weight_grad}.  \\nShape: {sampler_qnn_weight_grad.shape}\"\n",
    ")"
   ]
  },
  {
   "attachments": {},
   "cell_type": "markdown",
   "id": "74d28a00",
   "metadata": {},
   "source": [
    "### 4.2. Backward Pass with Input Gradients\n",
    "\n",
    "Let's enable the `input_gradients` to show what the expected output sizes are for this option."
   ]
  },
  {
   "cell_type": "code",
   "execution_count": 13,
   "id": "9ccc4641",
   "metadata": {},
   "outputs": [],
   "source": [
    "sampler_qnn.input_gradients = True"
   ]
  },
  {
   "attachments": {},
   "cell_type": "markdown",
   "id": "d3e50ff8",
   "metadata": {},
   "source": [
    "#### 4.2.2. `SamplerQNN` Example"
   ]
  },
  {
   "attachments": {},
   "cell_type": "markdown",
   "id": "b76da18a",
   "metadata": {},
   "source": [
    "For the `SamplerQNN` (without custom interpret function), the expected output shape for the input gradients is `(batch_size, 2**num_qubits, num_inputs)`. With a custom interpret function, the output shape will be `(batch_size, output_shape, num_inputs)`."
   ]
  },
  {
   "cell_type": "code",
   "execution_count": 14,
   "id": "3339f869",
   "metadata": {},
   "outputs": [
    {
     "name": "stdout",
     "output_type": "stream",
     "text": [
      "Input gradients for SamplerQNN: [[[ 0.00854017 -0.4260793 ]\n",
      "  [ 0.29208826  0.08375938]\n",
      "  [-0.35915753  0.17972714]\n",
      "  [ 0.05852911  0.16259278]]].  \n",
      "Shape: (1, 4, 2)\n",
      "Weight gradients for SamplerQNN: [[[ 0.00609879 -0.30661818 -0.1834591  -0.28341665]\n",
      "  [-0.02969169  0.17866236  0.1834591  -0.20004909]\n",
      "  [-0.37812738  0.30266095 -0.30904568  0.28341665]\n",
      "  [ 0.40172028 -0.17470512  0.30904568  0.20004909]]].  \n",
      "Shape: (1, 4, 4)\n"
     ]
    }
   ],
   "source": [
    "sampler_qnn_input_grad, sampler_qnn_weight_grad = sampler_qnn.backward(\n",
    "    sampler_qnn_input, sampler_qnn_weights\n",
    ")\n",
    "\n",
    "print(\n",
    "    f\"Input gradients for SamplerQNN: {sampler_qnn_input_grad}.  \\nShape: {sampler_qnn_input_grad.shape}\"\n",
    ")\n",
    "print(\n",
    "    f\"Weight gradients for SamplerQNN: {sampler_qnn_weight_grad}.  \\nShape: {sampler_qnn_weight_grad.shape}\"\n",
    ")"
   ]
  },
  {
   "attachments": {},
   "cell_type": "markdown",
   "id": "45871b6d",
   "metadata": {},
   "source": [
    "## 5. Advanced Functionality"
   ]
  },
  {
   "attachments": {},
   "cell_type": "markdown",
   "id": "788ec9f1",
   "metadata": {},
   "source": [
    "### `SamplerQNN` with custom `interpret`"
   ]
  },
  {
   "attachments": {},
   "cell_type": "markdown",
   "id": "378ef3ba",
   "metadata": {},
   "source": [
    "One common `interpret` method for `SamplerQNN` is the `parity` function, which allows it to perform binary classification. As explained in the instantiation section, using interpret functions will modify the output shape of the forward and backward passes. In the case of the parity interpret function, `output_shape` is fixed to `2`. Therefore, the expected forward and weight gradient shapes are `(batch_size, 2)` and `(batch_size, 2, num_weights)`, respectively:"
   ]
  },
  {
   "cell_type": "code",
   "execution_count": 15,
   "id": "eed68d1a",
   "metadata": {},
   "outputs": [],
   "source": [
    "parity = lambda x: \"{:b}\".format(x).count(\"1\") % 2\n",
    "output_shape = 2  # parity = 0, 1\n",
    "\n",
    "sampler_qnn2 = SamplerQNN(\n",
    "    circuit=qc2,\n",
    "    input_params=inputs2,\n",
    "    weight_params=weights2,\n",
    "    interpret=parity,\n",
    "    output_shape=output_shape,\n",
    ")"
   ]
  },
  {
   "cell_type": "code",
   "execution_count": 16,
   "id": "c2888195",
   "metadata": {},
   "outputs": [
    {
     "name": "stdout",
     "output_type": "stream",
     "text": [
      "Forward output for SamplerQNN1: (1, 4)\n",
      "Forward output for SamplerQNN2: (1, 2)\n",
      "Backward output for SamplerQNN1: (1, 4, 4)\n",
      "Backward output for SamplerQNN2: (1, 2, 4)\n"
     ]
    }
   ],
   "source": [
    "sampler_qnn_forward2 = sampler_qnn2.forward(sampler_qnn_input, sampler_qnn_weights)\n",
    "sampler_qnn_input_grad2, sampler_qnn_weight_grad2 = sampler_qnn2.backward(\n",
    "    sampler_qnn_input, sampler_qnn_weights\n",
    ")\n",
    "\n",
    "print(f\"Forward output for SamplerQNN1: {sampler_qnn_forward.shape}\")\n",
    "print(f\"Forward output for SamplerQNN2: {sampler_qnn_forward2.shape}\")\n",
    "print(f\"Backward output for SamplerQNN1: {sampler_qnn_weight_grad.shape}\")\n",
    "print(f\"Backward output for SamplerQNN2: {sampler_qnn_weight_grad2.shape}\")"
   ]
  },
  {
   "attachments": {},
   "cell_type": "markdown",
   "id": "66117e82",
   "metadata": {},
   "source": [
    "## 6. Conclusion\n",
    "\n",
    "In this tutorial, we introduced the two neural networks classes provided by `qiskit-machine-learning`, namely the `EstimatorQNN` and `SamplerQNN`, which extend the base `NeuralNetwork` class. We provided the key steps for QNN initialization, basic use in forward and backward passes, and advanced functionality.\n",
    "\n",
    "We now encourage you to play around with the problem setup and see how different circuit sizes, input, and weight parameter lengths influence the output shapes."
   ]
  },
  {
   "cell_type": "code",
   "execution_count": 48,
   "id": "appointed-shirt",
   "metadata": {
    "pycharm": {
     "name": "#%%\n"
    }
   },
   "outputs": [
    {
     "data": {
      "text/html": [
       "<h3>Version Information</h3><table><tr><th>Qiskit Software</th><th>Version</th></tr><tr><td><code>qiskit-terra</code></td><td>0.22.3</td></tr><tr><td><code>qiskit-machine-learning</code></td><td>0.6.0</td></tr><tr><th>System information</th></tr><tr><td>Python version</td><td>3.9.15</td></tr><tr><td>Python compiler</td><td>Clang 14.0.6 </td></tr><tr><td>Python build</td><td>main, Nov 24 2022 08:29:02</td></tr><tr><td>OS</td><td>Darwin</td></tr><tr><td>CPUs</td><td>8</td></tr><tr><td>Memory (Gb)</td><td>64.0</td></tr><tr><td colspan='2'>Mon Jan 23 11:57:49 2023 CET</td></tr></table>"
      ],
      "text/plain": [
       "<IPython.core.display.HTML object>"
      ]
     },
     "metadata": {},
     "output_type": "display_data"
    },
    {
     "data": {
      "text/html": [
       "<div style='width: 100%; background-color:#d5d9e0;padding-left: 10px; padding-bottom: 10px; padding-right: 10px; padding-top: 5px'><h3>This code is a part of Qiskit</h3><p>&copy; Copyright IBM 2017, 2023.</p><p>This code is licensed under the Apache License, Version 2.0. You may<br>obtain a copy of this license in the LICENSE.txt file in the root directory<br> of this source tree or at http://www.apache.org/licenses/LICENSE-2.0.<p>Any modifications or derivative works of this code must retain this<br>copyright notice, and modified files need to carry a notice indicating<br>that they have been altered from the originals.</p></div>"
      ],
      "text/plain": [
       "<IPython.core.display.HTML object>"
      ]
     },
     "metadata": {},
     "output_type": "display_data"
    }
   ],
   "source": [
    "import qiskit.tools.jupyter\n",
    "\n",
    "%qiskit_version_table\n",
    "%qiskit_copyright"
   ]
  }
 ],
 "metadata": {
  "kernelspec": {
   "display_name": "Python 3",
   "language": "python",
   "name": "python3"
  },
  "language_info": {
   "codemirror_mode": {
    "name": "ipython",
    "version": 3
   },
   "file_extension": ".py",
   "mimetype": "text/x-python",
   "name": "python",
   "nbconvert_exporter": "python",
   "pygments_lexer": "ipython3",
   "version": "3.9.10"
  }
 },
 "nbformat": 4,
 "nbformat_minor": 5
}
